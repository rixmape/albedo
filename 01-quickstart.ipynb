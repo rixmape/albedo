{
 "cells": [
  {
   "cell_type": "markdown",
   "metadata": {},
   "source": [
    "# Quickstart Tutorial for OpenAI API\n",
    "\n",
    "This notebook aims to introduce the OpenAI API and help you write your first code. The information presented here are taken from [OpenAI Developer Quickstart](https://platform.openai.com/docs/quickstart?context=python). I also assume that you already know how to use Python and Jupyter Notebook."
   ]
  },
  {
   "cell_type": "markdown",
   "metadata": {},
   "source": [
    "## Step 1: Setup Python\n",
    "\n",
    "1. To download Python, head to the [official Python website](https://www.python.org/downloads/) and download the latest version.\n",
    "\n",
    "2. Open a terminal and create a new directory for your project.\n",
    "\n",
    "    ```\n",
    "    mkdir openai-api\n",
    "    cd openai-api\n",
    "    ```\n",
    "\n",
    "3. Create a new Python environment and activate it.\n",
    "\n",
    "    ```\n",
    "    python -m venv .venv\n",
    "    .venv\\Scripts\\activate\n",
    "    ```\n",
    "    \n",
    "4. Install the OpenAI Python library.\n",
    "\n",
    "    ```\n",
    "    pip install openai\n",
    "    ```\n",
    "\n",
    "## Step 2: Setup your API key\n",
    "\n",
    "1. Ensure that you have an OpenAI account. If you don't have one, you can create one [here](https://platform.openai.com/login?launch).\n",
    "\n",
    "2. Head to the [API tokens page](https://platform.openai.com/api-keys) and create a new API key.\n",
    "\n",
    "3. Set environment variable for current session.\n",
    "\n",
    "    ```\n",
    "    setx OPENAI_API_KEY \"your-api-key-here\"\n",
    "    ```\n",
    "\n",
    "4. You can also set the environment variable permanently by following the instructions [here](https://www.architectryan.com/2018/08/31/how-to-change-environment-variables-on-windows-10/).\n",
    "\n",
    "5. Verify that the environment variable is set properly.\n",
    "\n",
    "    ```\n",
    "    echo %OPENAI_API_KEY%\n",
    "    ```\n",
    "\n",
    "## Step 3: Write your first code\n",
    "\n",
    "1. Create a new Python file and name it `quickstart.py`.\n",
    "\n",
    "2. Paste the code in the following code cell."
   ]
  },
  {
   "cell_type": "raw",
   "metadata": {
    "vscode": {
     "languageId": "plaintext"
    }
   },
   "source": [
    "from openai import OpenAI\n",
    "\n",
    "client = OpenAI()\n",
    "\n",
    "completion = client.chat.completions.create(\n",
    "    model=\"gpt-3.5-turbo\",\n",
    "    messages=[\n",
    "        {\n",
    "            \"role\": \"system\",\n",
    "            \"content\": \"You are a poetic assistant, skilled in explaining complex programming concepts with creative flair.\",\n",
    "        },\n",
    "        {\n",
    "            \"role\": \"user\",\n",
    "            \"content\": \"Compose a poem that explains the concept of recursion in programming.\",\n",
    "        },\n",
    "    ],\n",
    ")\n",
    "\n",
    "print(completion.choices[0].message)"
   ]
  },
  {
   "cell_type": "markdown",
   "metadata": {},
   "source": [
    "3. Run the code.\n",
    "\n",
    "    ```\n",
    "    python quickstart.py\n",
    "    ```"
   ]
  }
 ],
 "metadata": {
  "language_info": {
   "name": "python"
  }
 },
 "nbformat": 4,
 "nbformat_minor": 2
}
