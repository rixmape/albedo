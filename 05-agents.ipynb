{
 "cells": [
  {
   "cell_type": "markdown",
   "metadata": {},
   "source": [
    "# Agents\n",
    "\n",
    "The core idea of agents is to use an LLM to choose a sequence of actions to take. In chains, a sequence of actions is hardcoded (in code). In agents, a language model is used as a reasoning engine to determine which actions to take and in which order. You can learn more about agents [here](https://python.langchain.com/docs/modules/agents/). In this notebook, you'll learn how to create an agent that can interact with Wikipedia. "
   ]
  },
  {
   "cell_type": "markdown",
   "metadata": {},
   "source": [
    "## 1. Import packages"
   ]
  },
  {
   "cell_type": "code",
   "execution_count": 1,
   "metadata": {},
   "outputs": [],
   "source": [
    "from langchain.agents import AgentType, initialize_agent, load_tools\n",
    "from langchain.chat_models import ChatOpenAI\n",
    "from langchain.memory import ConversationBufferMemory, ChatMessageHistory\n",
    "from langchain.utilities import WikipediaAPIWrapper\n",
    "from langchain.agents import Tool"
   ]
  },
  {
   "cell_type": "markdown",
   "metadata": {},
   "source": [
    "## 2. Setup the language model\n",
    "\n",
    "So far, you learned how to construct a language model without any parameters. But in order to improve the performance of the language model, you can specify some parameters. \n",
    "\n",
    "Here, I changed the value for the `temperature`. The higher the temperature, the more random the output. The lower the temperature, the more predictable the output.\n",
    "\n",
    "I also specified the `model` to be used. In this case, I'm using the `gpt-3.5-turbo-16k` to accomodate larger conversation history. If your API key is not authorized to use this model, you can use the `gpt-3.5-turbo` model instead."
   ]
  },
  {
   "cell_type": "code",
   "execution_count": 2,
   "metadata": {},
   "outputs": [],
   "source": [
    "llm = ChatOpenAI(temperature=0, model=\"gpt-3.5-turbo-16k\")"
   ]
  },
  {
   "cell_type": "markdown",
   "metadata": {},
   "source": [
    "## 3. Setup the conversational memory\n",
    "\n",
    "Our agent will use `ConversationBufferMemory` for its memory. At the core of this object is a `ChatMessageHistory` object that wraps the list of `HumanMessage` and `AIMessage` in our conversation.\n",
    "\n",
    "We also added an initial `AIMessage` into the `ChatMessageHistory` object. This is to prime the language model with some context."
   ]
  },
  {
   "cell_type": "code",
   "execution_count": 3,
   "metadata": {},
   "outputs": [
    {
     "data": {
      "text/plain": [
       "{'chat_history': [AIMessage(content=\"As a helpful Wikipedia assistant, I can answer your questions accurately. Try asking me a question about a topic you're interested in.\")]}"
      ]
     },
     "execution_count": 3,
     "metadata": {},
     "output_type": "execute_result"
    }
   ],
   "source": [
    "messages = ChatMessageHistory()\n",
    "memory = ConversationBufferMemory(\n",
    "    chat_memory=messages,\n",
    "    return_messages=True,\n",
    "    memory_key=\"chat_history\",\n",
    "    output_key=\"output\",\n",
    ")\n",
    "\n",
    "# Add the initial instruction for the language model\n",
    "messages.add_ai_message(\n",
    "    \"As a helpful Wikipedia assistant, I can answer your questions accurately. \"\n",
    "    \"Try asking me a question about a topic you're interested in.\"\n",
    ")\n",
    "\n",
    "memory.load_memory_variables({})"
   ]
  },
  {
   "cell_type": "markdown",
   "metadata": {},
   "source": [
    "## 4. Setup the tools\n",
    "\n",
    "Tools are functions that an agent can use during its reasoning process. In this case, we're using the `wikipedia` tool to query Wikipedia. We can even create our own tools and add them to the agent. For example, we can create a tool that can query the weather, or perform some calculations accurately. You can learn more about tools [here](https://python.langchain.com/docs/modules/agents/tools/)."
   ]
  },
  {
   "cell_type": "code",
   "execution_count": 4,
   "metadata": {},
   "outputs": [],
   "source": [
    "wikipedia = WikipediaAPIWrapper()\n",
    "\n",
    "tools = [\n",
    "    Tool(\n",
    "        name=\"Wikipedia Search\",\n",
    "        func=wikipedia.run,\n",
    "        description=\"Useful for when you need to look up a definition or a short description of something. Be specific with your input.\",\n",
    "    ),\n",
    "]"
   ]
  },
  {
   "cell_type": "markdown",
   "metadata": {},
   "source": [
    "## 5. Setup the agent\n",
    "\n",
    "Finally, we instantiate the agent with the language model, memory and tools we created. We also need to specify the type of the agent. In this case, we're using the `CHAT_CONVERSATIONAL_REACT_DESCRIPTION` type. You can learn more about agent types [here](https://python.langchain.com/docs/modules/agents/agent_types/)."
   ]
  },
  {
   "cell_type": "code",
   "execution_count": 5,
   "metadata": {},
   "outputs": [],
   "source": [
    "agent = AgentType.CHAT_CONVERSATIONAL_REACT_DESCRIPTION\n",
    "agent_executor = initialize_agent(\n",
    "    llm=llm,\n",
    "    tools=tools,\n",
    "    agent=agent,\n",
    "    memory=memory,\n",
    "    verbose=True,\n",
    ")"
   ]
  },
  {
   "cell_type": "markdown",
   "metadata": {},
   "source": [
    "## 6. Start the conversation"
   ]
  },
  {
   "cell_type": "code",
   "execution_count": 6,
   "metadata": {},
   "outputs": [
    {
     "name": "stdout",
     "output_type": "stream",
     "text": [
      "\n",
      "\n",
      "\u001b[1m> Entering new AgentExecutor chain...\u001b[0m\n",
      "\u001b[32;1m\u001b[1;3m{\n",
      "    \"action\": \"Final Answer\",\n",
      "    \"action_input\": \"Hello! How can I assist you today?\"\n",
      "}\u001b[0m\n",
      "\n",
      "\u001b[1m> Finished chain.\u001b[0m\n",
      "Hello! How can I assist you today?\n"
     ]
    }
   ],
   "source": [
    "response = agent_executor(\"Hello!\")\n",
    "print(response[\"output\"])"
   ]
  },
  {
   "cell_type": "markdown",
   "metadata": {},
   "source": [
    "Let's try to ask the agent a question whose answer can be found in Wikipedia. "
   ]
  },
  {
   "cell_type": "code",
   "execution_count": 7,
   "metadata": {},
   "outputs": [
    {
     "name": "stdout",
     "output_type": "stream",
     "text": [
      "\n",
      "\n",
      "\u001b[1m> Entering new AgentExecutor chain...\u001b[0m\n",
      "\u001b[32;1m\u001b[1;3m{\n",
      "    \"action\": \"Wikipedia Search\",\n",
      "    \"action_input\": \"Fakemon\"\n",
      "}\u001b[0m\n",
      "Observation: \u001b[36;1m\u001b[1;3mPage: Fakemon\n",
      "Summary: Fakemon, also called Fakémon, are fan-designed fictional creatures based on the Pokémon franchise of monster-taming games. While many such designs have been created purely as fan art, others were made specifically as hoaxes to fool fans into believing they will appear in future series titles.\n",
      "\n",
      "Page: Main Page\n",
      "Summary: \n",
      "\n",
      "Page: List of generation I Pokémon\n",
      "Summary: The first generation (Generation I) of the Pokémon franchise features the original 151 fictional species of monsters introduced to the core video game series in the 1996 Game Boy games Pocket Monsters Red and Green (known as Pokémon Red and Blue outside of Japan).\n",
      "The following list details the 151 Pokémon of generation I in order of their National Pokédex number. The first Pokémon, Bulbasaur, is number 001 and the last, Mew, is number 151. Alternate forms that result in type changes are included for convenience. Mega evolutions and regional forms are included on the pages for the generation in which they were introduced. MissingNo., a glitch, is also on this list.\u001b[0m\n",
      "Thought:\u001b[32;1m\u001b[1;3m{\n",
      "    \"action\": \"Final Answer\",\n",
      "    \"action_input\": \"Fakemon are fan-designed fictional creatures based on the Pokémon franchise. They are created by fans as either fan art or hoaxes to fool other fans into believing they will appear in future Pokémon series titles.\"\n",
      "}\u001b[0m\n",
      "\n",
      "\u001b[1m> Finished chain.\u001b[0m\n",
      "Fakemon are fan-designed fictional creatures based on the Pokémon franchise. They are created by fans as either fan art or hoaxes to fool other fans into believing they will appear in future Pokémon series titles.\n"
     ]
    }
   ],
   "source": [
    "response = agent_executor(\"What is a Fakemon?\")\n",
    "print(response[\"output\"])"
   ]
  },
  {
   "cell_type": "markdown",
   "metadata": {},
   "source": [
    "Notice that the agent is able to answer the question correctly. It's also able to search for the answer in Wikipedia."
   ]
  }
 ],
 "metadata": {
  "kernelspec": {
   "display_name": ".venv",
   "language": "python",
   "name": "python3"
  },
  "language_info": {
   "codemirror_mode": {
    "name": "ipython",
    "version": 3
   },
   "file_extension": ".py",
   "mimetype": "text/x-python",
   "name": "python",
   "nbconvert_exporter": "python",
   "pygments_lexer": "ipython3",
   "version": "3.11.5"
  }
 },
 "nbformat": 4,
 "nbformat_minor": 2
}
