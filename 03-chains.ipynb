{
 "cells": [
  {
   "cell_type": "markdown",
   "metadata": {},
   "source": [
    "# Chains\n",
    "\n",
    "Chains allow us to combine multiple components together to create a single, coherent application. For example, we can create a chain that takes user input, formats it with a PromptTemplate, and then passes the formatted response to an LLM. We can build more complex chains by combining multiple chains together, or by combining chains with other components."
   ]
  },
  {
   "cell_type": "markdown",
   "metadata": {},
   "source": [
    "## LLMChain\n",
    "\n",
    "An `LLMChain` is a simple chain that adds some functionality around language models. It consists of a `PromptTemplate` and a language model (either an `LLM` or `ChatModel`). It formats the prompt template using the input key values provided, passes the formatted string to LLM and returns the LLM output.\n",
    "\n",
    "Here's an example with single input:"
   ]
  },
  {
   "cell_type": "code",
   "execution_count": 1,
   "metadata": {},
   "outputs": [
    {
     "data": {
      "text/plain": [
       "'\\n\\nAutoMotive Dynamics.'"
      ]
     },
     "execution_count": 1,
     "metadata": {},
     "output_type": "execute_result"
    }
   ],
   "source": [
    "from langchain.prompts import PromptTemplate\n",
    "from langchain.llms import OpenAI\n",
    "from langchain.chains import LLMChain\n",
    "\n",
    "prompt = PromptTemplate(\n",
    "    template=\"What is a good name for a company that makes {product}?\",\n",
    "    input_variables=[\"product\"],\n",
    ")\n",
    "\n",
    "llm = OpenAI()\n",
    "llm_chain = LLMChain(llm=llm, prompt=prompt)\n",
    "llm_chain.predict(product=\"cars\")"
   ]
  },
  {
   "cell_type": "markdown",
   "metadata": {},
   "source": [
    "To see what is happening under the hood, we can use the `verbose` parameter in `LLMCHain`:"
   ]
  },
  {
   "cell_type": "code",
   "execution_count": 2,
   "metadata": {},
   "outputs": [
    {
     "name": "stdout",
     "output_type": "stream",
     "text": [
      "\n",
      "\n",
      "\u001b[1m> Entering new LLMChain chain...\u001b[0m\n",
      "Prompt after formatting:\n",
      "\u001b[32;1m\u001b[1;3mWhat is a good name for a company that makes cars?\u001b[0m\n",
      "\n",
      "\u001b[1m> Finished chain.\u001b[0m\n"
     ]
    },
    {
     "data": {
      "text/plain": [
       "'\\n\\nAutobahn Motors.'"
      ]
     },
     "execution_count": 2,
     "metadata": {},
     "output_type": "execute_result"
    }
   ],
   "source": [
    "llm_chain = LLMChain(llm=llm, prompt=prompt, verbose=True)\n",
    "llm_chain.predict(product=\"cars\")"
   ]
  },
  {
   "cell_type": "markdown",
   "metadata": {},
   "source": [
    "Here's an example with multiple inputs:"
   ]
  },
  {
   "cell_type": "code",
   "execution_count": 3,
   "metadata": {},
   "outputs": [
    {
     "name": "stdout",
     "output_type": "stream",
     "text": [
      "\n",
      "\n",
      "\u001b[1m> Entering new LLMChain chain...\u001b[0m\n",
      "Prompt after formatting:\n",
      "\u001b[32;1m\u001b[1;3mTell me a sad joke about ducks.\u001b[0m\n",
      "\n",
      "\u001b[1m> Finished chain.\u001b[0m\n"
     ]
    },
    {
     "data": {
      "text/plain": [
       "'\\n\\nQ: What do you call a sad duck?\\nA: A weep-quack.'"
      ]
     },
     "execution_count": 3,
     "metadata": {},
     "output_type": "execute_result"
    }
   ],
   "source": [
    "prompt = PromptTemplate(\n",
    "    template=\"Tell me a {adjective} joke about {subject}.\",\n",
    "    input_variables=[\"adjective\", \"subject\"],\n",
    ")\n",
    "\n",
    "llm_chain = LLMChain(prompt=prompt, llm=llm, verbose=True)\n",
    "llm_chain.predict(adjective=\"sad\", subject=\"ducks\")"
   ]
  },
  {
   "cell_type": "markdown",
   "metadata": {},
   "source": [
    "## Sequential Chain\n",
    "\n",
    "The next step after calling a language model is to make a series of calls to a language model. This is particularly useful when you want to take the output from one call and use it as the input to another. `SequentialChain` allow you to connect multiple chains and compose them into pipelines that execute some specific scenario."
   ]
  },
  {
   "cell_type": "code",
   "execution_count": 7,
   "metadata": {},
   "outputs": [],
   "source": [
    "# This is an LLMChain to write a synopsis given a title of a play and the era it is set in.\n",
    "\n",
    "llm = OpenAI(temperature=0.7)\n",
    "synopsis_template = \"\"\"You are a playwright. Given the title of play and the era it is set in, it is your job to write a synopsis for that title.\n",
    "\n",
    "Title: {title}\n",
    "Era: {era}\n",
    "Playwright: This is a synopsis for the above play:\"\"\"\n",
    "\n",
    "synopsis_prompt_template = PromptTemplate(\n",
    "    template=synopsis_template,\n",
    "    input_variables=[\"title\", \"era\"],\n",
    ")\n",
    "\n",
    "synopsis_chain = LLMChain(\n",
    "    llm=llm,\n",
    "    prompt=synopsis_prompt_template,\n",
    "    output_key=\"synopsis\",\n",
    "    verbose=True,\n",
    ")"
   ]
  },
  {
   "cell_type": "code",
   "execution_count": 8,
   "metadata": {},
   "outputs": [],
   "source": [
    "# This is an LLMChain to write a review of a play given a synopsis.\n",
    "llm = OpenAI(temperature=0.7)\n",
    "template = \"\"\"You are a play critic from the New York Times. Given the synopsis of play, it is your job to write a review for that play.\n",
    "\n",
    "Play Synopsis:\n",
    "{synopsis}\n",
    "Review from a New York Times play critic of the above play:\"\"\"\n",
    "\n",
    "prompt_template = PromptTemplate(\n",
    "    template=template,\n",
    "    input_variables=[\"synopsis\"],\n",
    ")\n",
    "\n",
    "review_chain = LLMChain(\n",
    "    llm=llm,\n",
    "    prompt=prompt_template,\n",
    "    output_key=\"review\",\n",
    "    verbose=True,\n",
    ")"
   ]
  },
  {
   "cell_type": "code",
   "execution_count": 9,
   "metadata": {},
   "outputs": [
    {
     "name": "stdout",
     "output_type": "stream",
     "text": [
      "\n",
      "\n",
      "\u001b[1m> Entering new SequentialChain chain...\u001b[0m\n",
      "\n",
      "\n",
      "\u001b[1m> Entering new LLMChain chain...\u001b[0m\n",
      "Prompt after formatting:\n",
      "\u001b[32;1m\u001b[1;3mYou are a playwright. Given the title of play and the era it is set in, it is your job to write a synopsis for that title.\n",
      "\n",
      "Title: Tragedy at sunset on the beach\n",
      "Era: Victorian England\n",
      "Playwright: This is a synopsis for the above play:\u001b[0m\n",
      "\n",
      "\u001b[1m> Finished chain.\u001b[0m\n",
      "\n",
      "\n",
      "\u001b[1m> Entering new LLMChain chain...\u001b[0m\n",
      "Prompt after formatting:\n",
      "\u001b[32;1m\u001b[1;3mYou are a play critic from the New York Times. Given the synopsis of play, it is your job to write a review for that play.\n",
      "\n",
      "Play Synopsis:\n",
      "\n",
      "\n",
      "Set in Victorian England, Tragedy at Sunset on the Beach is a drama that explores the consequences of a forbidden romance between two members of the upper class. Jessica and Edward are two young lovers from wealthy families, who have been secretly meeting on the beach at sunset every night. They know that their families would never approve of their union, but their love for each other is too strong to ignore.\n",
      "\n",
      "One night, their clandestine meetings on the beach are discovered by Jessica's brother, who threatens to tell their families. In a desperate attempt to keep their secret, Edward challenges Jessica's brother to a duel. In the ensuing fight, Edward is mortally wounded and dies in Jessica's arms.\n",
      "\n",
      "As the sun sets on the beach, Jessica is overcome with grief and guilt. Her beloved Edward is gone, and she must now face the consequences of her actions. Tragedy at Sunset on the Beach is a story of forbidden love and its consequences, as well as the power of redemption.\n",
      "Review from a New York Times play critic of the above play:\u001b[0m\n",
      "\n",
      "\u001b[1m> Finished chain.\u001b[0m\n",
      "\n",
      "\u001b[1m> Finished chain.\u001b[0m\n"
     ]
    },
    {
     "data": {
      "text/plain": [
       "{'title': 'Tragedy at sunset on the beach',\n",
       " 'era': 'Victorian England',\n",
       " 'synopsis': \"\\n\\nSet in Victorian England, Tragedy at Sunset on the Beach is a drama that explores the consequences of a forbidden romance between two members of the upper class. Jessica and Edward are two young lovers from wealthy families, who have been secretly meeting on the beach at sunset every night. They know that their families would never approve of their union, but their love for each other is too strong to ignore.\\n\\nOne night, their clandestine meetings on the beach are discovered by Jessica's brother, who threatens to tell their families. In a desperate attempt to keep their secret, Edward challenges Jessica's brother to a duel. In the ensuing fight, Edward is mortally wounded and dies in Jessica's arms.\\n\\nAs the sun sets on the beach, Jessica is overcome with grief and guilt. Her beloved Edward is gone, and she must now face the consequences of her actions. Tragedy at Sunset on the Beach is a story of forbidden love and its consequences, as well as the power of redemption.\",\n",
       " 'review': \"\\n\\nTragedy at Sunset on the Beach is a compelling and powerful drama that explores the consequences of a forbidden romance between two members of the upper class. The story follows Jessica and Edward, two young lovers whose love for each other is too strong to ignore. Despite the danger, they continue to meet on the beach at sunset every night. When their secret is discovered, their love is tested as Edward challenges Jessica's brother to a duel and is mortally wounded.\\n\\nThe play is beautifully written and the actors do a wonderful job of bringing the characters to life. The tension between Jessica and Edward is palpable, and their love for each other is both heartbreaking and inspiring. The set and costumes are also magnificent, transporting the audience to Victorian England.\\n\\nTragedy at Sunset on the Beach is a powerful and heartbreaking story of forbidden love and its consequences, as well as the power of redemption. It is a must-see for anyone looking for an emotionally moving theatrical experience.\"}"
      ]
     },
     "execution_count": 9,
     "metadata": {},
     "output_type": "execute_result"
    }
   ],
   "source": [
    "# This is the overall chain where we run these two chains in sequence.\n",
    "from langchain.chains import SequentialChain\n",
    "\n",
    "overall_chain = SequentialChain(\n",
    "    chains=[synopsis_chain, review_chain],\n",
    "    input_variables=[\"era\", \"title\"],\n",
    "    # Here we return multiple variables\n",
    "    output_variables=[\"synopsis\", \"review\"],\n",
    "    verbose=True,\n",
    ")\n",
    "\n",
    "\n",
    "response = overall_chain(\n",
    "    {\"title\": \"Tragedy at sunset on the beach\", \"era\": \"Victorian England\"}\n",
    ")\n",
    "response"
   ]
  },
  {
   "cell_type": "markdown",
   "metadata": {},
   "source": [
    "You can access the each output using their key:"
   ]
  },
  {
   "cell_type": "code",
   "execution_count": 12,
   "metadata": {},
   "outputs": [
    {
     "name": "stdout",
     "output_type": "stream",
     "text": [
      "\n",
      "\n",
      "Set in Victorian England, Tragedy at Sunset on the Beach is a drama that explores the consequences of a forbidden romance between two members of the upper class. Jessica and Edward are two young lovers from wealthy families, who have been secretly meeting on the beach at sunset every night. They know that their families would never approve of their union, but their love for each other is too strong to ignore.\n",
      "\n",
      "One night, their clandestine meetings on the beach are discovered by Jessica's brother, who threatens to tell their families. In a desperate attempt to keep their secret, Edward challenges Jessica's brother to a duel. In the ensuing fight, Edward is mortally wounded and dies in Jessica's arms.\n",
      "\n",
      "As the sun sets on the beach, Jessica is overcome with grief and guilt. Her beloved Edward is gone, and she must now face the consequences of her actions. Tragedy at Sunset on the Beach is a story of forbidden love and its consequences, as well as the power of redemption.\n"
     ]
    }
   ],
   "source": [
    "print(response[\"synopsis\"])"
   ]
  },
  {
   "cell_type": "code",
   "execution_count": 13,
   "metadata": {},
   "outputs": [
    {
     "name": "stdout",
     "output_type": "stream",
     "text": [
      "\n",
      "\n",
      "Tragedy at Sunset on the Beach is a compelling and powerful drama that explores the consequences of a forbidden romance between two members of the upper class. The story follows Jessica and Edward, two young lovers whose love for each other is too strong to ignore. Despite the danger, they continue to meet on the beach at sunset every night. When their secret is discovered, their love is tested as Edward challenges Jessica's brother to a duel and is mortally wounded.\n",
      "\n",
      "The play is beautifully written and the actors do a wonderful job of bringing the characters to life. The tension between Jessica and Edward is palpable, and their love for each other is both heartbreaking and inspiring. The set and costumes are also magnificent, transporting the audience to Victorian England.\n",
      "\n",
      "Tragedy at Sunset on the Beach is a powerful and heartbreaking story of forbidden love and its consequences, as well as the power of redemption. It is a must-see for anyone looking for an emotionally moving theatrical experience.\n"
     ]
    }
   ],
   "source": [
    "print(response[\"review\"])"
   ]
  },
  {
   "cell_type": "markdown",
   "metadata": {},
   "source": [
    "**TODO**: Write a introductory section for LangChain Expression Language."
   ]
  }
 ],
 "metadata": {
  "kernelspec": {
   "display_name": ".venv",
   "language": "python",
   "name": "python3"
  },
  "language_info": {
   "codemirror_mode": {
    "name": "ipython",
    "version": 3
   },
   "file_extension": ".py",
   "mimetype": "text/x-python",
   "name": "python",
   "nbconvert_exporter": "python",
   "pygments_lexer": "ipython3",
   "version": "3.11.5"
  }
 },
 "nbformat": 4,
 "nbformat_minor": 2
}
